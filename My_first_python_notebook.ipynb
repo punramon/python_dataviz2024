{
  "nbformat": 4,
  "nbformat_minor": 0,
  "metadata": {
    "colab": {
      "provenance": [],
      "authorship_tag": "ABX9TyPGZCA5gitS8pV1iHGnEaKc",
      "include_colab_link": true
    },
    "kernelspec": {
      "name": "python3",
      "display_name": "Python 3"
    },
    "language_info": {
      "name": "python"
    }
  },
  "cells": [
    {
      "cell_type": "markdown",
      "metadata": {
        "id": "view-in-github",
        "colab_type": "text"
      },
      "source": [
        "<a href=\"https://colab.research.google.com/github/punramon/python_dataviz2024/blob/main/My_first_python_notebook.ipynb\" target=\"_parent\"><img src=\"https://colab.research.google.com/assets/colab-badge.svg\" alt=\"Open In Colab\"/></a>"
      ]
    },
    {
      "cell_type": "markdown",
      "source": [
        "Basic Programming for Data Science & Data Visualization\n",
        "\n",
        "here we use **Markdown**"
      ],
      "metadata": {
        "id": "Q_GZ9BxoRfYk"
      }
    },
    {
      "cell_type": "code",
      "execution_count": 1,
      "metadata": {
        "colab": {
          "base_uri": "https://localhost:8080/"
        },
        "id": "_B0zyN6iQwlS",
        "outputId": "f39f47a9-86e5-45e0-b5bd-448e4a0d2540"
      },
      "outputs": [
        {
          "output_type": "stream",
          "name": "stdout",
          "text": [
            "Punramon\n"
          ]
        }
      ],
      "source": [
        "print('Punramon')"
      ]
    },
    {
      "cell_type": "code",
      "source": [
        "print('Ratchakom')"
      ],
      "metadata": {
        "colab": {
          "base_uri": "https://localhost:8080/"
        },
        "id": "FO_Wlg8eSrLy",
        "outputId": "c6a39d28-e0c2-4de3-fe69-6c44ac2451bf"
      },
      "execution_count": 2,
      "outputs": [
        {
          "output_type": "stream",
          "name": "stdout",
          "text": [
            "Ratchakom\n"
          ]
        }
      ]
    }
  ]
}